{
  "nbformat": 4,
  "nbformat_minor": 0,
  "metadata": {
    "colab": {
      "provenance": [],
      "include_colab_link": true
    },
    "kernelspec": {
      "name": "python3",
      "display_name": "Python 3"
    },
    "language_info": {
      "name": "python"
    }
  },
  "cells": [
    {
      "cell_type": "markdown",
      "metadata": {
        "id": "view-in-github",
        "colab_type": "text"
      },
      "source": [
        "<a href=\"https://colab.research.google.com/github/HpDiniz/Leitor-de-PDF/blob/main/PDF_Extractor.ipynb\" target=\"_parent\"><img src=\"https://colab.research.google.com/assets/colab-badge.svg\" alt=\"Open In Colab\"/></a>"
      ]
    },
    {
      "cell_type": "code",
      "source": [
        "!pip install pdfminer\n",
        "!pip install PyPDF2"
      ],
      "metadata": {
        "colab": {
          "base_uri": "https://localhost:8080/"
        },
        "id": "cN56rH8TrYQy",
        "outputId": "3e809bda-b5a1-4eb9-b14b-5122c942a14e"
      },
      "execution_count": 9,
      "outputs": [
        {
          "output_type": "stream",
          "name": "stdout",
          "text": [
            "Looking in indexes: https://pypi.org/simple, https://us-python.pkg.dev/colab-wheels/public/simple/\n",
            "Requirement already satisfied: pdfminer in /usr/local/lib/python3.8/dist-packages (20191125)\n",
            "Requirement already satisfied: pycryptodome in /usr/local/lib/python3.8/dist-packages (from pdfminer) (3.16.0)\n",
            "Looking in indexes: https://pypi.org/simple, https://us-python.pkg.dev/colab-wheels/public/simple/\n",
            "Requirement already satisfied: PyPDF2 in /usr/local/lib/python3.8/dist-packages (3.0.1)\n",
            "Requirement already satisfied: typing_extensions>=3.10.0.0 in /usr/local/lib/python3.8/dist-packages (from PyPDF2) (4.4.0)\n"
          ]
        }
      ]
    },
    {
      "cell_type": "code",
      "source": [
        "import io\n",
        "import re\n",
        "import os\n",
        "import PyPDF2\n",
        "from io import StringIO\n",
        "from google.colab import files\n",
        "from pdfminer.layout import LAParams\n",
        "from pdfminer.pdfpage import PDFPage\n",
        "from pdfminer.converter import TextConverter\n",
        "from pdfminer.pdfinterp import PDFResourceManager, PDFPageInterpreter"
      ],
      "metadata": {
        "id": "QAdgDBRi1FXU"
      },
      "execution_count": 10,
      "outputs": []
    },
    {
      "cell_type": "code",
      "source": [
        "file_objects = files.upload()"
      ],
      "metadata": {
        "colab": {
          "base_uri": "https://localhost:8080/",
          "height": 73
        },
        "id": "CFpNjOojq_j7",
        "outputId": "ab08e23b-1c32-4b01-c8bf-32960ad68d87"
      },
      "execution_count": 11,
      "outputs": [
        {
          "output_type": "display_data",
          "data": {
            "text/plain": [
              "<IPython.core.display.HTML object>"
            ],
            "text/html": [
              "\n",
              "     <input type=\"file\" id=\"files-52a4ac79-6cbd-4a2c-abf7-1f85eec71d1b\" name=\"files[]\" multiple disabled\n",
              "        style=\"border:none\" />\n",
              "     <output id=\"result-52a4ac79-6cbd-4a2c-abf7-1f85eec71d1b\">\n",
              "      Upload widget is only available when the cell has been executed in the\n",
              "      current browser session. Please rerun this cell to enable.\n",
              "      </output>\n",
              "      <script>// Copyright 2017 Google LLC\n",
              "//\n",
              "// Licensed under the Apache License, Version 2.0 (the \"License\");\n",
              "// you may not use this file except in compliance with the License.\n",
              "// You may obtain a copy of the License at\n",
              "//\n",
              "//      http://www.apache.org/licenses/LICENSE-2.0\n",
              "//\n",
              "// Unless required by applicable law or agreed to in writing, software\n",
              "// distributed under the License is distributed on an \"AS IS\" BASIS,\n",
              "// WITHOUT WARRANTIES OR CONDITIONS OF ANY KIND, either express or implied.\n",
              "// See the License for the specific language governing permissions and\n",
              "// limitations under the License.\n",
              "\n",
              "/**\n",
              " * @fileoverview Helpers for google.colab Python module.\n",
              " */\n",
              "(function(scope) {\n",
              "function span(text, styleAttributes = {}) {\n",
              "  const element = document.createElement('span');\n",
              "  element.textContent = text;\n",
              "  for (const key of Object.keys(styleAttributes)) {\n",
              "    element.style[key] = styleAttributes[key];\n",
              "  }\n",
              "  return element;\n",
              "}\n",
              "\n",
              "// Max number of bytes which will be uploaded at a time.\n",
              "const MAX_PAYLOAD_SIZE = 100 * 1024;\n",
              "\n",
              "function _uploadFiles(inputId, outputId) {\n",
              "  const steps = uploadFilesStep(inputId, outputId);\n",
              "  const outputElement = document.getElementById(outputId);\n",
              "  // Cache steps on the outputElement to make it available for the next call\n",
              "  // to uploadFilesContinue from Python.\n",
              "  outputElement.steps = steps;\n",
              "\n",
              "  return _uploadFilesContinue(outputId);\n",
              "}\n",
              "\n",
              "// This is roughly an async generator (not supported in the browser yet),\n",
              "// where there are multiple asynchronous steps and the Python side is going\n",
              "// to poll for completion of each step.\n",
              "// This uses a Promise to block the python side on completion of each step,\n",
              "// then passes the result of the previous step as the input to the next step.\n",
              "function _uploadFilesContinue(outputId) {\n",
              "  const outputElement = document.getElementById(outputId);\n",
              "  const steps = outputElement.steps;\n",
              "\n",
              "  const next = steps.next(outputElement.lastPromiseValue);\n",
              "  return Promise.resolve(next.value.promise).then((value) => {\n",
              "    // Cache the last promise value to make it available to the next\n",
              "    // step of the generator.\n",
              "    outputElement.lastPromiseValue = value;\n",
              "    return next.value.response;\n",
              "  });\n",
              "}\n",
              "\n",
              "/**\n",
              " * Generator function which is called between each async step of the upload\n",
              " * process.\n",
              " * @param {string} inputId Element ID of the input file picker element.\n",
              " * @param {string} outputId Element ID of the output display.\n",
              " * @return {!Iterable<!Object>} Iterable of next steps.\n",
              " */\n",
              "function* uploadFilesStep(inputId, outputId) {\n",
              "  const inputElement = document.getElementById(inputId);\n",
              "  inputElement.disabled = false;\n",
              "\n",
              "  const outputElement = document.getElementById(outputId);\n",
              "  outputElement.innerHTML = '';\n",
              "\n",
              "  const pickedPromise = new Promise((resolve) => {\n",
              "    inputElement.addEventListener('change', (e) => {\n",
              "      resolve(e.target.files);\n",
              "    });\n",
              "  });\n",
              "\n",
              "  const cancel = document.createElement('button');\n",
              "  inputElement.parentElement.appendChild(cancel);\n",
              "  cancel.textContent = 'Cancel upload';\n",
              "  const cancelPromise = new Promise((resolve) => {\n",
              "    cancel.onclick = () => {\n",
              "      resolve(null);\n",
              "    };\n",
              "  });\n",
              "\n",
              "  // Wait for the user to pick the files.\n",
              "  const files = yield {\n",
              "    promise: Promise.race([pickedPromise, cancelPromise]),\n",
              "    response: {\n",
              "      action: 'starting',\n",
              "    }\n",
              "  };\n",
              "\n",
              "  cancel.remove();\n",
              "\n",
              "  // Disable the input element since further picks are not allowed.\n",
              "  inputElement.disabled = true;\n",
              "\n",
              "  if (!files) {\n",
              "    return {\n",
              "      response: {\n",
              "        action: 'complete',\n",
              "      }\n",
              "    };\n",
              "  }\n",
              "\n",
              "  for (const file of files) {\n",
              "    const li = document.createElement('li');\n",
              "    li.append(span(file.name, {fontWeight: 'bold'}));\n",
              "    li.append(span(\n",
              "        `(${file.type || 'n/a'}) - ${file.size} bytes, ` +\n",
              "        `last modified: ${\n",
              "            file.lastModifiedDate ? file.lastModifiedDate.toLocaleDateString() :\n",
              "                                    'n/a'} - `));\n",
              "    const percent = span('0% done');\n",
              "    li.appendChild(percent);\n",
              "\n",
              "    outputElement.appendChild(li);\n",
              "\n",
              "    const fileDataPromise = new Promise((resolve) => {\n",
              "      const reader = new FileReader();\n",
              "      reader.onload = (e) => {\n",
              "        resolve(e.target.result);\n",
              "      };\n",
              "      reader.readAsArrayBuffer(file);\n",
              "    });\n",
              "    // Wait for the data to be ready.\n",
              "    let fileData = yield {\n",
              "      promise: fileDataPromise,\n",
              "      response: {\n",
              "        action: 'continue',\n",
              "      }\n",
              "    };\n",
              "\n",
              "    // Use a chunked sending to avoid message size limits. See b/62115660.\n",
              "    let position = 0;\n",
              "    do {\n",
              "      const length = Math.min(fileData.byteLength - position, MAX_PAYLOAD_SIZE);\n",
              "      const chunk = new Uint8Array(fileData, position, length);\n",
              "      position += length;\n",
              "\n",
              "      const base64 = btoa(String.fromCharCode.apply(null, chunk));\n",
              "      yield {\n",
              "        response: {\n",
              "          action: 'append',\n",
              "          file: file.name,\n",
              "          data: base64,\n",
              "        },\n",
              "      };\n",
              "\n",
              "      let percentDone = fileData.byteLength === 0 ?\n",
              "          100 :\n",
              "          Math.round((position / fileData.byteLength) * 100);\n",
              "      percent.textContent = `${percentDone}% done`;\n",
              "\n",
              "    } while (position < fileData.byteLength);\n",
              "  }\n",
              "\n",
              "  // All done.\n",
              "  yield {\n",
              "    response: {\n",
              "      action: 'complete',\n",
              "    }\n",
              "  };\n",
              "}\n",
              "\n",
              "scope.google = scope.google || {};\n",
              "scope.google.colab = scope.google.colab || {};\n",
              "scope.google.colab._files = {\n",
              "  _uploadFiles,\n",
              "  _uploadFilesContinue,\n",
              "};\n",
              "})(self);\n",
              "</script> "
            ]
          },
          "metadata": {}
        },
        {
          "output_type": "stream",
          "name": "stdout",
          "text": [
            "Saving Extrato XP - Cliente 01.pdf to Extrato XP - Cliente 01 (1).pdf\n"
          ]
        }
      ]
    },
    {
      "cell_type": "code",
      "source": [
        "# Converte o conteúdo do PDF para texto\n",
        "def convert_pdf_to_txt(path):\n",
        "\n",
        "    rsrcmgr = PDFResourceManager()\n",
        "    retstr = StringIO()\n",
        "    laparams = LAParams()\n",
        "    device = TextConverter(rsrcmgr, retstr, laparams=laparams)\n",
        "    fp = open(path, 'rb')\n",
        "    interpreter = PDFPageInterpreter(rsrcmgr, device)\n",
        "    password = \"\"\n",
        "    maxpages = 0\n",
        "    caching = True\n",
        "    pagenos=set()\n",
        "\n",
        "    for page in PDFPage.get_pages(fp, pagenos, maxpages=maxpages, password=password,caching=caching, check_extractable=True):\n",
        "        interpreter.process_page(page)\n",
        "\n",
        "    text = retstr.getvalue()\n",
        "\n",
        "    fp.close()\n",
        "    device.close()\n",
        "    retstr.close()\n",
        "\n",
        "    return text\n",
        "\n",
        "def remove_header_and_footer(text, cm, tm, fontDict, fontSize):\n",
        "    y = tm[5]\n",
        "    if y > 50 and y < 720:\n",
        "        parts.append(text)"
      ],
      "metadata": {
        "id": "luw85ugomDsZ"
      },
      "execution_count": 12,
      "outputs": []
    },
    {
      "cell_type": "code",
      "source": [
        "text_body = \"\"\n",
        "text_miner = \"\"\n",
        "\n",
        "for file in list(file_objects.keys()):\n",
        "\n",
        "    file_name, file_extension = os.path.splitext(file)\n",
        "\n",
        "    if file_extension != '.pdf':\n",
        "        continue\n",
        "\n",
        "    # Lê o conteúdo do arquivo PDF\n",
        "    text_miner = convert_pdf_to_txt(file)\n",
        "    \n",
        "    reader = PyPDF2.PdfReader(file)\n",
        "\n",
        "    for page in reader.pages:\n",
        "\n",
        "        parts = []\n",
        "\n",
        "        page.extract_text(visitor_text=remove_header_and_footer)\n",
        "        text_body = text_body + \"\".join(parts)"
      ],
      "metadata": {
        "id": "D88d5raUPWLm"
      },
      "execution_count": 13,
      "outputs": []
    },
    {
      "cell_type": "code",
      "source": [
        "text_miner"
      ],
      "metadata": {
        "colab": {
          "base_uri": "https://localhost:8080/",
          "height": 126
        },
        "id": "LZFyMZBFesdG",
        "outputId": "2d27cacf-108f-4c20-baa1-faa3397eec5a"
      },
      "execution_count": 58,
      "outputs": [
        {
          "output_type": "execute_result",
          "data": {
            "text/plain": [
              "'Extrato de Cotista\\n\\nConsolidado\\n\\nMovimentação de 15/05/2022 a 11/11/2022\\n\\nNome do Cliente\\nEndereço\\n\\nCEP: 02440-00\\n\\nPOSIÇÃO CONSOLIDADA\\n\\nFundo\\n\\nCota\\n\\nQuantidade\\n\\nValor Aplicado\\n\\nValor Bruto\\n\\nIR\\n\\nSulAmérica Inflatie FI Renda Fixa Longo Prazo\\n\\nXP Referenciado FI Referenciado DI CP\\n\\nXPA MM II FIC FIM\\n\\nXPA RV FIC FIM\\n\\nXPA Vértice Crédito FIM CP\\n\\n49,03907260\\n\\n2,55168782\\n\\n1,48495549\\n\\n1,51471586\\n\\n1,31704969\\n\\n485,46020696\\n\\n9.607,86926679\\n\\n206.015,91600648\\n\\n86.244,99799744\\n\\n62.558,82325043\\n\\n21.434,59\\n\\n23.303,62\\n\\n231.165,15\\n\\n119.600,00\\n\\n67.664,32\\n\\n23.806,52\\n\\n24.516,28\\n\\n305.924,47\\n\\n130.636,67\\n\\n82.393,08\\n\\n13,80\\n\\n272,84\\n\\n2.095,63\\n\\n1.655,50\\n\\n816,74\\n\\nEmissão: 11/11/2022\\n\\nCódigo: 3Nxxx7\\n\\nIOF\\n\\n0,00\\n\\n0,00\\n\\n0,00\\n\\n0,00\\n\\n0,00\\n\\nValor Liquido\\n\\n23.792,72\\n\\n24.243,44\\n\\n303.828,84\\n\\n128.981,17\\n\\n81.576,34\\n\\nTotal na Instituição\\n\\n463.167,68\\n\\n567.277,02\\n\\n4.854,51\\n\\n0,00\\n\\n562.422,51\\n\\nSulAmérica Inflatie FI Renda Fixa Longo Prazo\\n\\nData Mov.\\n\\nCotização\\n\\nHistórico\\n\\nCota\\n\\nQuantidade\\n\\nValor Bruto\\n\\n15/05/2022\\n25/05/2022\\n04/08/2022\\n11/11/2022\\n\\n26/05/2022\\n05/08/2022\\n\\nSaldo Anterior\\nResgate parcial\\nResgate parcial\\nSaldo Final\\n\\n48,44468460\\n48,74387760\\n48,98922100\\n49,03907260\\n\\nTotal Aplicado\\nCorte de IR\\nTotal Resgatado\\nRendimento Bruto\\n\\n2.001,43698264\\n474,93144042\\n1.041,04533526\\n485,46020696\\n\\n96.958,98\\n23.150,00\\n51.000,00\\n23.806,52\\n\\nIR\\n\\n0,00\\n0,00\\n21,82\\n13,80\\n\\nIOF\\n\\n0,00\\n0,00\\n0,00\\n0,00\\n\\n74.150,00\\n\\n21,82\\n\\n0,00\\n\\nAplicação\\n\\n22/07/2019\\n\\nSaldo Final\\n\\nCota\\n44,15313270\\n\\nQuantidade\\n485,46020696\\n485,46020696\\n\\nValor Aplicado\\n21.434,59\\n21.434,59\\n\\nValor Bruto\\n23.806,52\\n23.806,52\\n\\nIR\\n13,80\\n13,80\\n\\nIOF\\n0,00\\n0,00\\n\\nPosição de Investimentos em 11/11/2022\\n\\nData Mov.\\n\\nCotização\\n\\nHistórico\\n\\nCota\\n\\nQuantidade\\n\\nValor Bruto\\n\\nXP Referenciado FI Referenciado DI CP\\n\\n15/05/2022\\n23/05/2022\\n24/06/2022\\n11/11/2022\\n\\n23/05/2022\\n24/06/2022\\n\\nSaldo Anterior\\nResgate total\\nAplicação\\nSaldo Final\\n\\n2,39085808\\n2,39800554\\n2,42547222\\n2,55168782\\n\\nTotal Aplicado\\nCorte de IR\\nTotal Resgatado\\nRendimento Bruto\\n\\n2.890,57546225\\n2.890,57546225\\n9.607,86926679\\n9.607,86926679\\n\\n6.910,96\\n6.931,62\\n23.303,62\\n24.516,28\\n\\nIR\\n\\n48,67\\n51,77\\n0,00\\n272,84\\n\\nIOF\\n\\n0,00\\n0,00\\n0,00\\n0,00\\n\\n6.931,62\\n\\n51,77\\n\\n0,00\\n\\nAplicação\\n\\n24/06/2022\\n\\nSaldo Final\\n\\nCota\\n2,42547222\\n\\nQuantidade\\n9.607,86926679\\n9.607,86926679\\n\\nValor Aplicado\\n23.303,62\\n23.303,62\\n\\nValor Bruto\\n24.516,28\\n24.516,28\\n\\nIR\\n272,84\\n272,84\\n\\nIOF\\n0,00\\n0,00\\n\\nPosição de Investimentos em 11/11/2022\\n\\nData Mov.\\n\\nCotização\\n\\nHistórico\\n\\nCota\\n\\nQuantidade\\n\\nValor Bruto\\n\\nIR\\n\\n15/05/2022\\n31/05/2022\\n11/11/2022\\n\\n31/05/2022\\n\\nSaldo Anterior\\nCome Cotas\\nSaldo Final\\n\\n1,40907062\\n1,41714101\\n1,48495549\\n\\n208.525,41222097\\n2.509,49621449\\n206.015,91600648\\n\\n293.827,03\\n3.556,31\\n305.924,47\\n\\n3.303,88\\n0,00\\n2.095,63\\n\\nIOF\\n\\n0,00\\n0,00\\n0,00\\n\\nXPA MM II FIC FIM\\n\\nTotal Aplicado\\nCorte de IR\\nTotal Resgatado\\nRendimento Bruto\\n\\nPosição de Investimentos em 11/11/2022\\n\\n0,00\\n\\n0,00\\n\\n0,00\\n\\nAplicação\\n\\n22/07/2019\\n\\nSaldo Final\\n\\nCota\\n1,12207423\\n\\nQuantidade\\n206.015,91600648\\n206.015,91600648\\n\\nValor Aplicado\\n231.165,15\\n231.165,15\\n\\nValor Bruto\\n305.924,47\\n305.924,47\\n\\nIR\\n2.095,62\\n2.095,62\\n\\nIOF\\n0,00\\n0,00\\n\\nValor Liquido\\n\\n96.958,98\\n23.150,00\\n50.978,18\\n23.792,72\\n\\n0,00\\n0,00\\n74.128,18\\n997,54\\n\\nValor Liquido\\n23.792,72\\n23.792,72\\n\\nValor Liquido\\n\\n6.862,29\\n6.879,85\\n23.303,62\\n24.243,44\\n\\n23.303,62\\n0,00\\n6.879,85\\n1.233,32\\n\\nValor Liquido\\n24.243,44\\n24.243,44\\n\\nValor Liquido\\n\\n290.523,15\\n3.556,31\\n303.828,84\\n\\n0,00\\n3.556,31\\n0,00\\n15.653,75\\n\\nValor Liquido\\n303.828,85\\n303.828,85\\n\\n\\x0cExtrato de Cotista\\n\\nConsolidado\\n\\nMovimentação de 15/05/2022 a 11/11/2022\\n\\nNome Cliente\\nEndereço\\n\\nCEP: 22440-035\\n\\nData Mov.\\n\\nCotização\\n\\nHistórico\\n\\nCota\\n\\nQuantidade\\n\\nValor Bruto\\n\\nIR\\n\\n15/05/2022\\n11/11/2022\\n\\nSaldo Anterior\\nSaldo Final\\n\\n1,40068004\\n1,51471586\\n\\n86.244,99799744\\n86.244,99799744\\n\\n120.801,65\\n130.636,67\\n\\n180,24\\n1.655,50\\n\\nIOF\\n\\n0,00\\n0,00\\n\\nXPA RV FIC FIM\\n\\nTotal Aplicado\\nCorte de IR\\nTotal Resgatado\\nRendimento Bruto\\n\\nPosição de Investimentos em 11/11/2022\\n\\n0,00\\n\\n0,00\\n\\n0,00\\n\\nAplicação\\n\\n22/07/2019\\n\\nSaldo Final\\n\\nCota\\n1,38674709\\n\\nQuantidade\\n86.244,99799744\\n86.244,99799744\\n\\nValor Aplicado\\n119.600,00\\n119.600,00\\n\\nValor Bruto\\n130.636,67\\n130.636,67\\n\\nIR\\n1.655,50\\n1.655,50\\n\\nIOF\\n0,00\\n0,00\\n\\nData Mov.\\n\\nCotização\\n\\nHistórico\\n\\nCota\\n\\nQuantidade\\n\\nValor Bruto\\n\\nXPA Vértice Crédito FIM CP\\n\\n82.104,62021877\\n18.824,29990710\\n721,49706124\\n62.558,82325043\\n\\n100.247,77\\n23.330,00\\n887,45\\n82.393,08\\n\\nIR\\n\\n783,69\\n26,38\\n0,00\\n816,74\\n\\nIOF\\n\\n0,00\\n0,00\\n0,00\\n0,00\\n\\n23.330,00\\n\\n26,38\\n\\n0,00\\n\\n15/05/2022\\n23/05/2022\\n31/05/2022\\n11/11/2022\\n\\n20/06/2022\\n31/05/2022\\n\\nSaldo Anterior\\nResgate parcial\\nCome Cotas\\nSaldo Final\\n\\n1,22097603\\n1,23935552\\n1,23001194\\n1,31704969\\n\\nTotal Aplicado\\nCorte de IR\\nTotal Resgatado\\nRendimento Bruto\\n\\nAplicação\\n\\n22/07/2019\\n\\nSaldo Final\\n\\nCota\\n1,08161112\\n\\nQuantidade\\n62.558,82325043\\n62.558,82325043\\n\\nValor Aplicado\\n67.664,32\\n67.664,32\\n\\nValor Bruto\\n82.393,08\\n82.393,08\\n\\nIR\\n816,74\\n816,74\\n\\nIOF\\n0,00\\n0,00\\n\\nPosição de Investimentos em 11/11/2022\\n\\nEmissão: 11/11/2022\\n\\nCódigo: 3363247\\n\\nValor Liquido\\n\\n120.621,41\\n128.981,17\\n\\n0,00\\n0,00\\n0,00\\n9.835,02\\n\\nValor Liquido\\n128.981,17\\n128.981,17\\n\\nValor Liquido\\n\\n99.464,08\\n23.303,62\\n887,45\\n81.576,34\\n\\n0,00\\n887,45\\n23.303,62\\n6.362,76\\n\\nValor Liquido\\n81.576,34\\n81.576,34\\n\\n\\x0c'"
            ],
            "application/vnd.google.colaboratory.intrinsic+json": {
              "type": "string"
            }
          },
          "metadata": {},
          "execution_count": 58
        }
      ]
    },
    {
      "cell_type": "code",
      "source": [
        "import re\n",
        "\n",
        "# A primeira regex obtém o texto situado entre o termo \"POSIÇÃO CONSOLIDADA\" e o termo \"Emissão\"\n",
        "regex_1 = \"(?<=POSI..O CONSOLIDADA).*?(?=Emissão:)\"\n",
        "result_1 = str(re.search(regex_1, text_miner, flags=(re.IGNORECASE | re.DOTALL)).group(0))\n",
        "\n",
        "# A segunda regex obtém todas as linhas que possuírem pelo menos uma letra e forem diferente dos valores que\n",
        "# aparecem nos headers das tabelas: \"Fundo\", \"Cota\", \"Quantidade\", \"Valor Aplicado\", etc...\n",
        "regex_2 = \"^(?!Fundo|Cota|Quantidade|Valor Aplicado|Valor Bruto|IR|IOF|Valor|Liquido$)^.*[a-zA-Z].*$\"\n",
        "result_2 = re.findall(regex_2, result_1, re.MULTILINE)\n",
        "\n",
        "print(\"ATIVOS ENCONTRADOS:\")\n",
        "dictionary = {}\n",
        "for ativo in result_2:\n",
        "    print(\" - \" + ativo)\n",
        "    dictionary[ativo.replace(\" \",\"\")] = ativo"
      ],
      "metadata": {
        "colab": {
          "base_uri": "https://localhost:8080/"
        },
        "id": "ONCWr0GQguGh",
        "outputId": "b660c065-9645-4d7d-e426-b0bf4827d935"
      },
      "execution_count": 124,
      "outputs": [
        {
          "output_type": "stream",
          "name": "stdout",
          "text": [
            "ATIVOS ENCONTRADOS:\n",
            " - SulAmérica Inflatie FI Renda Fixa Longo Prazo\n",
            " - XP Referenciado FI Referenciado DI CP\n",
            " - XPA MM II FIC FIM\n",
            " - XPA RV FIC FIM\n",
            " - XPA Vértice Crédito FIM CP\n"
          ]
        }
      ]
    },
    {
      "cell_type": "code",
      "source": [
        "dictionary"
      ],
      "metadata": {
        "colab": {
          "base_uri": "https://localhost:8080/"
        },
        "id": "L_bVY8IB1_fX",
        "outputId": "67447dcc-da96-4f9c-9d85-dcf85efb9670"
      },
      "execution_count": 125,
      "outputs": [
        {
          "output_type": "execute_result",
          "data": {
            "text/plain": [
              "{'SulAméricaInflatieFIRendaFixaLongoPrazo': 'SulAmérica Inflatie FI Renda Fixa Longo Prazo',\n",
              " 'XPReferenciadoFIReferenciadoDICP': 'XP Referenciado FI Referenciado DI CP',\n",
              " 'XPAMMIIFICFIM': 'XPA MM II FIC FIM',\n",
              " 'XPARVFICFIM': 'XPA RV FIC FIM',\n",
              " 'XPAVérticeCréditoFIMCP': 'XPA Vértice Crédito FIM CP'}"
            ]
          },
          "metadata": {},
          "execution_count": 125
        }
      ]
    },
    {
      "cell_type": "code",
      "source": [
        "print(text_body)"
      ],
      "metadata": {
        "colab": {
          "base_uri": "https://localhost:8080/"
        },
        "id": "ne7Lv7nT2p6b",
        "outputId": "49fc704c-9454-44d5-80a9-3537d14ee9a1"
      },
      "execution_count": 121,
      "outputs": [
        {
          "output_type": "stream",
          "name": "stdout",
          "text": [
            "\n",
            "POSIÇÃOCONSOLIDADA\n",
            "Fundo Cota Quantidade ValorAplicado ValorBruto IR IOF ValorLiquido\n",
            "SulAméricaInflatieFIRendaFixaLongoPrazo 49,03907260 485,46020696 21.434,59 23.806,52 13,80 0,00 23.792,72\n",
            "XPReferenciadoFIReferenciadoDICP 2,55168782 9.607,86926679 23.303,62 24.516,28 272,84 0,00 24.243,44\n",
            "XPAMMIIFICFIM 1,48495549 206.015,91600648 231.165,15 305.924,47 2.095,63 0,00 303.828,84\n",
            "XPARVFICFIM 1,51471586 86.244,99799744 119.600,00 130.636,67 1.655,50 0,00 128.981,17\n",
            "XPAVérticeCréditoFIMCP 1,31704969 62.558,82325043 67.664,32 82.393,08 816,74 0,00 81.576,34\n",
            "TotalnaInstituição 463.167,68 567.277,02 4.854,51 0,00 562.422,51\n",
            "SulAméricaInflatieFIRendaFixaLongoPrazo\n",
            "Histórico DataMov. Cotização Cota Quantidade ValorBruto IR IOF ValorLiquido\n",
            "SaldoAnterior 15/05/2022 48,44468460 2.001,43698264 96.958,98 0,00 0,00 96.958,98\n",
            "Resgateparcial 25/05/2022 26/05/2022 48,74387760 474,93144042 23.150,00 0,00 0,00 23.150,00\n",
            "Resgateparcial 04/08/2022 05/08/2022 48,98922100 1.041,04533526 51.000,00 21,82 0,00 50.978,18\n",
            "SaldoFinal 11/11/2022 49,03907260 485,46020696 23.806,52 13,80 0,00 23.792,72\n",
            "TotalAplicado 0,00\n",
            "CortedeIR 0,00\n",
            "TotalResgatado 74.150,00 21,82 0,00 74.128,18\n",
            "RendimentoBruto 997,54\n",
            "PosiçãodeInvestimentosem11/11/2022\n",
            "Aplicação Cota Quantidade ValorAplicado ValorBruto IR IOF ValorLiquido\n",
            "22/07/2019 44,15313270 485,46020696 21.434,59 23.806,52 13,80 0,00 23.792,72\n",
            "SaldoFinal 485,46020696 21.434,59 23.806,52 13,80 0,00 23.792,72\n",
            "XPReferenciadoFIReferenciadoDICP\n",
            "Histórico DataMov. Cotização Cota Quantidade ValorBruto IR IOF ValorLiquido\n",
            "SaldoAnterior 15/05/2022 2,39085808 2.890,57546225 6.910,96 48,67 0,00 6.862,29\n",
            "Resgatetotal 23/05/2022 23/05/2022 2,39800554 2.890,57546225 6.931,62 51,77 0,00 6.879,85\n",
            "Aplicação 24/06/2022 24/06/2022 2,42547222 9.607,86926679 23.303,62 0,00 0,00 23.303,62\n",
            "SaldoFinal 11/11/2022 2,55168782 9.607,86926679 24.516,28 272,84 0,00 24.243,44\n",
            "TotalAplicado 23.303,62\n",
            "CortedeIR 0,00\n",
            "TotalResgatado 6.931,62 51,77 0,00 6.879,85\n",
            "RendimentoBruto 1.233,32\n",
            "PosiçãodeInvestimentosem11/11/2022\n",
            "Aplicação Cota Quantidade ValorAplicado ValorBruto IR IOF ValorLiquido\n",
            "24/06/2022 2,42547222 9.607,86926679 23.303,62 24.516,28 272,84 0,00 24.243,44\n",
            "SaldoFinal 9.607,86926679 23.303,62 24.516,28 272,84 0,00 24.243,44\n",
            "XPAMMIIFICFIM\n",
            "Histórico DataMov. Cotização Cota Quantidade ValorBruto IR IOF ValorLiquido\n",
            "SaldoAnterior 15/05/2022 1,40907062 208.525,41222097 293.827,03 3.303,88 0,00 290.523,15\n",
            "ComeCotas 31/05/2022 31/05/2022 1,41714101 2.509,49621449 3.556,31 0,00 0,00 3.556,31\n",
            "SaldoFinal 11/11/2022 1,48495549 206.015,91600648 305.924,47 2.095,63 0,00 303.828,84\n",
            "TotalAplicado 0,00\n",
            "CortedeIR 3.556,31\n",
            "TotalResgatado 0,00 0,00 0,00 0,00\n",
            "RendimentoBruto 15.653,75\n",
            "PosiçãodeInvestimentosem11/11/2022\n",
            "Aplicação Cota Quantidade ValorAplicado ValorBruto IR IOF ValorLiquido\n",
            "22/07/2019 1,12207423 206.015,91600648 231.165,15 305.924,47 2.095,62 0,00 303.828,85\n",
            "SaldoFinal 206.015,91600648 231.165,15 305.924,47 2.095,62 0,00 303.828,85Emissão:11/11/2022\n",
            "Código:3363247\n",
            "XPARVFICFIM\n",
            "Histórico DataMov. Cotização Cota Quantidade ValorBruto IR IOF ValorLiquido\n",
            "SaldoAnterior 15/05/2022 1,40068004 86.244,99799744 120.801,65 180,24 0,00 120.621,41\n",
            "SaldoFinal 11/11/2022 1,51471586 86.244,99799744 130.636,67 1.655,50 0,00 128.981,17\n",
            "TotalAplicado 0,00\n",
            "CortedeIR 0,00\n",
            "TotalResgatado 0,00 0,00 0,00 0,00\n",
            "RendimentoBruto 9.835,02\n",
            "PosiçãodeInvestimentosem11/11/2022\n",
            "Aplicação Cota Quantidade ValorAplicado ValorBruto IR IOF ValorLiquido\n",
            "22/07/2019 1,38674709 86.244,99799744 119.600,00 130.636,67 1.655,50 0,00 128.981,17\n",
            "SaldoFinal 86.244,99799744 119.600,00 130.636,67 1.655,50 0,00 128.981,17\n",
            "XPAVérticeCréditoFIMCP\n",
            "Histórico DataMov. Cotização Cota Quantidade ValorBruto IR IOF ValorLiquido\n",
            "SaldoAnterior 15/05/2022 1,22097603 82.104,62021877 100.247,77 783,69 0,00 99.464,08\n",
            "Resgateparcial 23/05/2022 20/06/2022 1,23935552 18.824,29990710 23.330,00 26,38 0,00 23.303,62\n",
            "ComeCotas 31/05/2022 31/05/2022 1,23001194 721,49706124 887,45 0,00 0,00 887,45\n",
            "SaldoFinal 11/11/2022 1,31704969 62.558,82325043 82.393,08 816,74 0,00 81.576,34\n",
            "TotalAplicado 0,00\n",
            "CortedeIR 887,45\n",
            "TotalResgatado 23.330,00 26,38 0,00 23.303,62\n",
            "RendimentoBruto 6.362,76\n",
            "PosiçãodeInvestimentosem11/11/2022\n",
            "Aplicação Cota Quantidade ValorAplicado ValorBruto IR IOF ValorLiquido\n",
            "22/07/2019 1,08161112 62.558,82325043 67.664,32 82.393,08 816,74 0,00 81.576,34\n",
            "SaldoFinal 62.558,82325043 67.664,32 82.393,08 816,74 0,00 81.576,34\n"
          ]
        }
      ]
    },
    {
      "cell_type": "code",
      "source": [
        "import pandas as pd\n",
        "  \n",
        "# initialize data of lists.\n",
        "data = {\n",
        "    \"CLASSIFICAÇÃO\": [],\n",
        "    \"ATIVO\": [],\n",
        "    \"EXPOSIÇÃO\": [],\n",
        "    \"TIT/INST\": [],\n",
        "    \"ATUAL\": [],\n",
        "    \"DATA\": [],\n",
        "    \"ON/OFF\": [],\n",
        "    \"DATA DE VENCIMENTO\": []\n",
        "}\n",
        "  \n",
        "# Create DataFrame\n",
        "df = pd.DataFrame(data)\n",
        "  \n",
        "# Print the output.\n",
        "df"
      ],
      "metadata": {
        "colab": {
          "base_uri": "https://localhost:8080/",
          "height": 49
        },
        "id": "ywyU-eMIQ4tM",
        "outputId": "197c0fa2-2f0d-43e2-9f9e-b19e12c28c86"
      },
      "execution_count": 112,
      "outputs": [
        {
          "output_type": "execute_result",
          "data": {
            "text/plain": [
              "Empty DataFrame\n",
              "Columns: [CLASSIFICAÇÃO, ATIVO, EXPOSIÇÃO, TIT/INST, ATUAL, DATA, ON/OFF, DATA DE VENCIMENTO]\n",
              "Index: []"
            ],
            "text/html": [
              "\n",
              "  <div id=\"df-83035de3-cb6e-408c-b2f2-2060e8c49211\">\n",
              "    <div class=\"colab-df-container\">\n",
              "      <div>\n",
              "<style scoped>\n",
              "    .dataframe tbody tr th:only-of-type {\n",
              "        vertical-align: middle;\n",
              "    }\n",
              "\n",
              "    .dataframe tbody tr th {\n",
              "        vertical-align: top;\n",
              "    }\n",
              "\n",
              "    .dataframe thead th {\n",
              "        text-align: right;\n",
              "    }\n",
              "</style>\n",
              "<table border=\"1\" class=\"dataframe\">\n",
              "  <thead>\n",
              "    <tr style=\"text-align: right;\">\n",
              "      <th></th>\n",
              "      <th>CLASSIFICAÇÃO</th>\n",
              "      <th>ATIVO</th>\n",
              "      <th>EXPOSIÇÃO</th>\n",
              "      <th>TIT/INST</th>\n",
              "      <th>ATUAL</th>\n",
              "      <th>DATA</th>\n",
              "      <th>ON/OFF</th>\n",
              "      <th>DATA DE VENCIMENTO</th>\n",
              "    </tr>\n",
              "  </thead>\n",
              "  <tbody>\n",
              "  </tbody>\n",
              "</table>\n",
              "</div>\n",
              "      <button class=\"colab-df-convert\" onclick=\"convertToInteractive('df-83035de3-cb6e-408c-b2f2-2060e8c49211')\"\n",
              "              title=\"Convert this dataframe to an interactive table.\"\n",
              "              style=\"display:none;\">\n",
              "        \n",
              "  <svg xmlns=\"http://www.w3.org/2000/svg\" height=\"24px\"viewBox=\"0 0 24 24\"\n",
              "       width=\"24px\">\n",
              "    <path d=\"M0 0h24v24H0V0z\" fill=\"none\"/>\n",
              "    <path d=\"M18.56 5.44l.94 2.06.94-2.06 2.06-.94-2.06-.94-.94-2.06-.94 2.06-2.06.94zm-11 1L8.5 8.5l.94-2.06 2.06-.94-2.06-.94L8.5 2.5l-.94 2.06-2.06.94zm10 10l.94 2.06.94-2.06 2.06-.94-2.06-.94-.94-2.06-.94 2.06-2.06.94z\"/><path d=\"M17.41 7.96l-1.37-1.37c-.4-.4-.92-.59-1.43-.59-.52 0-1.04.2-1.43.59L10.3 9.45l-7.72 7.72c-.78.78-.78 2.05 0 2.83L4 21.41c.39.39.9.59 1.41.59.51 0 1.02-.2 1.41-.59l7.78-7.78 2.81-2.81c.8-.78.8-2.07 0-2.86zM5.41 20L4 18.59l7.72-7.72 1.47 1.35L5.41 20z\"/>\n",
              "  </svg>\n",
              "      </button>\n",
              "      \n",
              "  <style>\n",
              "    .colab-df-container {\n",
              "      display:flex;\n",
              "      flex-wrap:wrap;\n",
              "      gap: 12px;\n",
              "    }\n",
              "\n",
              "    .colab-df-convert {\n",
              "      background-color: #E8F0FE;\n",
              "      border: none;\n",
              "      border-radius: 50%;\n",
              "      cursor: pointer;\n",
              "      display: none;\n",
              "      fill: #1967D2;\n",
              "      height: 32px;\n",
              "      padding: 0 0 0 0;\n",
              "      width: 32px;\n",
              "    }\n",
              "\n",
              "    .colab-df-convert:hover {\n",
              "      background-color: #E2EBFA;\n",
              "      box-shadow: 0px 1px 2px rgba(60, 64, 67, 0.3), 0px 1px 3px 1px rgba(60, 64, 67, 0.15);\n",
              "      fill: #174EA6;\n",
              "    }\n",
              "\n",
              "    [theme=dark] .colab-df-convert {\n",
              "      background-color: #3B4455;\n",
              "      fill: #D2E3FC;\n",
              "    }\n",
              "\n",
              "    [theme=dark] .colab-df-convert:hover {\n",
              "      background-color: #434B5C;\n",
              "      box-shadow: 0px 1px 3px 1px rgba(0, 0, 0, 0.15);\n",
              "      filter: drop-shadow(0px 1px 2px rgba(0, 0, 0, 0.3));\n",
              "      fill: #FFFFFF;\n",
              "    }\n",
              "  </style>\n",
              "\n",
              "      <script>\n",
              "        const buttonEl =\n",
              "          document.querySelector('#df-83035de3-cb6e-408c-b2f2-2060e8c49211 button.colab-df-convert');\n",
              "        buttonEl.style.display =\n",
              "          google.colab.kernel.accessAllowed ? 'block' : 'none';\n",
              "\n",
              "        async function convertToInteractive(key) {\n",
              "          const element = document.querySelector('#df-83035de3-cb6e-408c-b2f2-2060e8c49211');\n",
              "          const dataTable =\n",
              "            await google.colab.kernel.invokeFunction('convertToInteractive',\n",
              "                                                     [key], {});\n",
              "          if (!dataTable) return;\n",
              "\n",
              "          const docLinkHtml = 'Like what you see? Visit the ' +\n",
              "            '<a target=\"_blank\" href=https://colab.research.google.com/notebooks/data_table.ipynb>data table notebook</a>'\n",
              "            + ' to learn more about interactive tables.';\n",
              "          element.innerHTML = '';\n",
              "          dataTable['output_type'] = 'display_data';\n",
              "          await google.colab.output.renderOutput(dataTable, element);\n",
              "          const docLink = document.createElement('div');\n",
              "          docLink.innerHTML = docLinkHtml;\n",
              "          element.appendChild(docLink);\n",
              "        }\n",
              "      </script>\n",
              "    </div>\n",
              "  </div>\n",
              "  "
            ]
          },
          "metadata": {},
          "execution_count": 112
        }
      ]
    },
    {
      "cell_type": "code",
      "source": [],
      "metadata": {
        "id": "m-VPO3A7L1_D"
      },
      "execution_count": null,
      "outputs": []
    }
  ]
}